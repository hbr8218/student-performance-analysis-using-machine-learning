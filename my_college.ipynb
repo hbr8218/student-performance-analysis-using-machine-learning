{
  "nbformat": 4,
  "nbformat_minor": 0,
  "metadata": {
    "colab": {
      "name": "my_college.ipynb",
      "provenance": [],
      "collapsed_sections": []
    },
    "kernelspec": {
      "name": "python3",
      "display_name": "Python 3"
    },
    "accelerator": "GPU"
  },
  "cells": [
    {
      "cell_type": "markdown",
      "metadata": {
        "id": "WFCwk9MtLpxx",
        "colab_type": "text"
      },
      "source": [
        "# (EDA) Exploratory Data Analysis"
      ]
    },
    {
      "cell_type": "code",
      "metadata": {
        "id": "vHL8w6glLSoA",
        "colab_type": "code",
        "colab": {}
      },
      "source": [
        "import pandas as pd\n",
        "import numpy as np\n",
        "np.random.seed(43)\n",
        "\n",
        "from sklearn.metrics import accuracy_score\n",
        "from sklearn.model_selection import RandomizedSearchCV\n",
        "from sklearn.model_selection import cross_val_score\n",
        "from sklearn.model_selection import KFold\n",
        "from sklearn.ensemble import RandomForestClassifier\n",
        "from sklearn.ensemble import ExtraTreesClassifier\n",
        "\n",
        "import matplotlib.pyplot as plt\n",
        "%matplotlib inline"
      ],
      "execution_count": null,
      "outputs": []
    },
    {
      "cell_type": "code",
      "metadata": {
        "id": "IHwZXCUfNVQA",
        "colab_type": "code",
        "colab": {}
      },
      "source": [
        "# import csv file from google drive via pydrive\n",
        "!pip install -U -q PyDrive\n",
        "from pydrive.auth import GoogleAuth\n",
        "from pydrive.drive import GoogleDrive\n",
        "from google.colab import auth\n",
        "from oauth2client.client import GoogleCredentials\n",
        "\n",
        "# Authenticate and create the PyDrive client.\n",
        "auth.authenticate_user()\n",
        "gauth = GoogleAuth()\n",
        "gauth.credentials = GoogleCredentials.get_application_default()\n",
        "drive = GoogleDrive(gauth)\n"
      ],
      "execution_count": null,
      "outputs": []
    },
    {
      "cell_type": "code",
      "metadata": {
        "id": "2OmLDmNb2vmd",
        "colab_type": "code",
        "colab": {
          "base_uri": "https://localhost:8080/",
          "height": 34
        },
        "outputId": "5c3e4f1b-ad6c-44fd-9401-53b6bcb56b51"
      },
      "source": [
        "link = 'https://drive.google.com/open?id=1jw2hxatbzruugJvEZs2XF-qpTXGWvNTM' # shareable link\n",
        "\n",
        "# we need only id portion of the link\n",
        "fluff,id_portion = link.split('=')\n",
        "print(id_portion)\n",
        "\n"
      ],
      "execution_count": null,
      "outputs": [
        {
          "output_type": "stream",
          "text": [
            "1jw2hxatbzruugJvEZs2XF-qpTXGWvNTM\n"
          ],
          "name": "stdout"
        }
      ]
    },
    {
      "cell_type": "code",
      "metadata": {
        "id": "FI8GpMhL54QM",
        "colab_type": "code",
        "colab": {}
      },
      "source": [
        ""
      ],
      "execution_count": null,
      "outputs": []
    },
    {
      "cell_type": "code",
      "metadata": {
        "id": "uQXZxSwN4ZGQ",
        "colab_type": "code",
        "colab": {}
      },
      "source": [
        "# download from shareable link\n",
        "downloaded = drive.CreateFile({'id':id_portion}) "
      ],
      "execution_count": null,
      "outputs": []
    },
    {
      "cell_type": "code",
      "metadata": {
        "id": "aM4UyqAV4YrJ",
        "colab_type": "code",
        "colab": {}
      },
      "source": [
        "downloaded.GetContentFile('2nd Sem.-2014-15.xls')"
      ],
      "execution_count": null,
      "outputs": []
    },
    {
      "cell_type": "code",
      "metadata": {
        "id": "mz0sltOd62J_",
        "colab_type": "code",
        "colab": {
          "base_uri": "https://localhost:8080/",
          "height": 34
        },
        "outputId": "aef32d18-fadc-4c8f-8324-90f5a4c9d389"
      },
      "source": [
        "print(downloaded.GetContentFile('2nd Sem.-2014-15.xls'))"
      ],
      "execution_count": null,
      "outputs": [
        {
          "output_type": "stream",
          "text": [
            "None\n"
          ],
          "name": "stdout"
        }
      ]
    },
    {
      "cell_type": "code",
      "metadata": {
        "id": "cUKj5SIs6gTC",
        "colab_type": "code",
        "colab": {}
      },
      "source": [
        "df = pd.read_excel('2nd Sem.-2014-15.xls')"
      ],
      "execution_count": null,
      "outputs": []
    },
    {
      "cell_type": "code",
      "metadata": {
        "id": "qqfR4ix56gPw",
        "colab_type": "code",
        "colab": {
          "base_uri": "https://localhost:8080/",
          "height": 293
        },
        "outputId": "caeffdce-2cf1-4fd5-9acd-c4d1d496bab2"
      },
      "source": [
        "df.head()"
      ],
      "execution_count": null,
      "outputs": [
        {
          "output_type": "execute_result",
          "data": {
            "text/html": [
              "<div>\n",
              "<style scoped>\n",
              "    .dataframe tbody tr th:only-of-type {\n",
              "        vertical-align: middle;\n",
              "    }\n",
              "\n",
              "    .dataframe tbody tr th {\n",
              "        vertical-align: top;\n",
              "    }\n",
              "\n",
              "    .dataframe thead th {\n",
              "        text-align: right;\n",
              "    }\n",
              "</style>\n",
              "<table border=\"1\" class=\"dataframe\">\n",
              "  <thead>\n",
              "    <tr style=\"text-align: right;\">\n",
              "      <th></th>\n",
              "      <th>ROLL NO.</th>\n",
              "      <th>NAME</th>\n",
              "      <th>CS201</th>\n",
              "      <th>CH201</th>\n",
              "      <th>M201</th>\n",
              "      <th>ME201</th>\n",
              "      <th>ES201</th>\n",
              "      <th>CS291</th>\n",
              "      <th>CH291</th>\n",
              "      <th>ES291</th>\n",
              "      <th>ME291</th>\n",
              "      <th>SGPA1</th>\n",
              "      <th>SGPA2</th>\n",
              "      <th>YGPA</th>\n",
              "      <th>DGPA</th>\n",
              "      <th>RESULT</th>\n",
              "    </tr>\n",
              "  </thead>\n",
              "  <tbody>\n",
              "    <tr>\n",
              "      <th>0</th>\n",
              "      <td>12500114001</td>\n",
              "      <td>ABHISHEK JAISWAL</td>\n",
              "      <td>C (24)</td>\n",
              "      <td>C (24)</td>\n",
              "      <td>D (20)</td>\n",
              "      <td>C (24)</td>\n",
              "      <td>C (24)</td>\n",
              "      <td>A (16)</td>\n",
              "      <td>A (16)</td>\n",
              "      <td>A (16)</td>\n",
              "      <td>A (24)</td>\n",
              "      <td>6.19</td>\n",
              "      <td>6.48</td>\n",
              "      <td>6.34</td>\n",
              "      <td>0</td>\n",
              "      <td>XP</td>\n",
              "    </tr>\n",
              "    <tr>\n",
              "      <th>1</th>\n",
              "      <td>12500114002</td>\n",
              "      <td>ABHISHEK SHANKAR</td>\n",
              "      <td>C (24)</td>\n",
              "      <td>D (20)</td>\n",
              "      <td>C (24)</td>\n",
              "      <td>D (20)</td>\n",
              "      <td>D (20)</td>\n",
              "      <td>E (18)</td>\n",
              "      <td>E (18)</td>\n",
              "      <td>A (16)</td>\n",
              "      <td>A (24)</td>\n",
              "      <td>6.41</td>\n",
              "      <td>6.34</td>\n",
              "      <td>6.38</td>\n",
              "      <td>0</td>\n",
              "      <td>P</td>\n",
              "    </tr>\n",
              "    <tr>\n",
              "      <th>2</th>\n",
              "      <td>12500114003</td>\n",
              "      <td>AISHWARYA</td>\n",
              "      <td>B (28)</td>\n",
              "      <td>B (28)</td>\n",
              "      <td>C (24)</td>\n",
              "      <td>B (28)</td>\n",
              "      <td>B (28)</td>\n",
              "      <td>E (18)</td>\n",
              "      <td>O (20)</td>\n",
              "      <td>A (16)</td>\n",
              "      <td>O (30)</td>\n",
              "      <td>7.37</td>\n",
              "      <td>7.59</td>\n",
              "      <td>7.48</td>\n",
              "      <td>0</td>\n",
              "      <td>P</td>\n",
              "    </tr>\n",
              "    <tr>\n",
              "      <th>3</th>\n",
              "      <td>12500114004</td>\n",
              "      <td>AJAY KUMAR</td>\n",
              "      <td>C (24)</td>\n",
              "      <td>C (24)</td>\n",
              "      <td>C (24)</td>\n",
              "      <td>A (32)</td>\n",
              "      <td>B (28)</td>\n",
              "      <td>A (16)</td>\n",
              "      <td>E (18)</td>\n",
              "      <td>A (16)</td>\n",
              "      <td>A (24)</td>\n",
              "      <td>7.74</td>\n",
              "      <td>7.10</td>\n",
              "      <td>7.41</td>\n",
              "      <td>0</td>\n",
              "      <td>P</td>\n",
              "    </tr>\n",
              "    <tr>\n",
              "      <th>4</th>\n",
              "      <td>12500114005</td>\n",
              "      <td>AKANCHA KUMARI</td>\n",
              "      <td>B (28)</td>\n",
              "      <td>A (32)</td>\n",
              "      <td>D (20)</td>\n",
              "      <td>A (32)</td>\n",
              "      <td>B (28)</td>\n",
              "      <td>E (18)</td>\n",
              "      <td>O (20)</td>\n",
              "      <td>O (20)</td>\n",
              "      <td>O (30)</td>\n",
              "      <td>7.96</td>\n",
              "      <td>7.86</td>\n",
              "      <td>7.91</td>\n",
              "      <td>0</td>\n",
              "      <td>P</td>\n",
              "    </tr>\n",
              "  </tbody>\n",
              "</table>\n",
              "</div>"
            ],
            "text/plain": [
              "      ROLL NO.              NAME   CS201   CH201  ... SGPA2  YGPA DGPA RESULT\n",
              "0  12500114001  ABHISHEK JAISWAL  C (24)  C (24)  ...  6.48  6.34    0     XP\n",
              "1  12500114002  ABHISHEK SHANKAR  C (24)  D (20)  ...  6.34  6.38    0      P\n",
              "2  12500114003         AISHWARYA  B (28)  B (28)  ...  7.59  7.48    0      P\n",
              "3  12500114004        AJAY KUMAR  C (24)  C (24)  ...  7.10  7.41    0      P\n",
              "4  12500114005    AKANCHA KUMARI  B (28)  A (32)  ...  7.86  7.91    0      P\n",
              "\n",
              "[5 rows x 16 columns]"
            ]
          },
          "metadata": {
            "tags": []
          },
          "execution_count": 8
        }
      ]
    },
    {
      "cell_type": "code",
      "metadata": {
        "id": "_PaDOwT96gKF",
        "colab_type": "code",
        "colab": {}
      },
      "source": [
        ""
      ],
      "execution_count": null,
      "outputs": []
    },
    {
      "cell_type": "code",
      "metadata": {
        "id": "oVB0aZcfNS4Q",
        "colab_type": "code",
        "colab": {
          "base_uri": "https://localhost:8080/",
          "height": 34
        },
        "outputId": "7d92c7ad-a5ac-43ab-c035-1aa7e60bbad4"
      },
      "source": [
        "\"\"\"from google.colab import files\n",
        "my_csv = files.upload()\n",
        "df =  pd.read_excel('2nd Sem.-2014-15.xls')\n",
        "df.head()\"\"\""
      ],
      "execution_count": null,
      "outputs": [
        {
          "output_type": "execute_result",
          "data": {
            "text/plain": [
              "\"from google.colab import files\\nmy_csv = files.upload()\\ndf =  pd.read_excel('2nd Sem.-2014-15.xls')\\ndf.head()\""
            ]
          },
          "metadata": {
            "tags": []
          },
          "execution_count": 9
        }
      ]
    },
    {
      "cell_type": "code",
      "metadata": {
        "id": "GcLqeZWIpbbA",
        "colab_type": "code",
        "colab": {
          "base_uri": "https://localhost:8080/",
          "height": 206
        },
        "outputId": "4bf88639-d663-4684-caaa-f0d17ff07bea"
      },
      "source": [
        "df = df.drop(['NAME','ROLL NO.'],axis=1)\n",
        "df.head()"
      ],
      "execution_count": null,
      "outputs": [
        {
          "output_type": "execute_result",
          "data": {
            "text/html": [
              "<div>\n",
              "<style scoped>\n",
              "    .dataframe tbody tr th:only-of-type {\n",
              "        vertical-align: middle;\n",
              "    }\n",
              "\n",
              "    .dataframe tbody tr th {\n",
              "        vertical-align: top;\n",
              "    }\n",
              "\n",
              "    .dataframe thead th {\n",
              "        text-align: right;\n",
              "    }\n",
              "</style>\n",
              "<table border=\"1\" class=\"dataframe\">\n",
              "  <thead>\n",
              "    <tr style=\"text-align: right;\">\n",
              "      <th></th>\n",
              "      <th>CS201</th>\n",
              "      <th>CH201</th>\n",
              "      <th>M201</th>\n",
              "      <th>ME201</th>\n",
              "      <th>ES201</th>\n",
              "      <th>CS291</th>\n",
              "      <th>CH291</th>\n",
              "      <th>ES291</th>\n",
              "      <th>ME291</th>\n",
              "      <th>SGPA1</th>\n",
              "      <th>SGPA2</th>\n",
              "      <th>YGPA</th>\n",
              "      <th>DGPA</th>\n",
              "      <th>RESULT</th>\n",
              "    </tr>\n",
              "  </thead>\n",
              "  <tbody>\n",
              "    <tr>\n",
              "      <th>0</th>\n",
              "      <td>C (24)</td>\n",
              "      <td>C (24)</td>\n",
              "      <td>D (20)</td>\n",
              "      <td>C (24)</td>\n",
              "      <td>C (24)</td>\n",
              "      <td>A (16)</td>\n",
              "      <td>A (16)</td>\n",
              "      <td>A (16)</td>\n",
              "      <td>A (24)</td>\n",
              "      <td>6.19</td>\n",
              "      <td>6.48</td>\n",
              "      <td>6.34</td>\n",
              "      <td>0</td>\n",
              "      <td>XP</td>\n",
              "    </tr>\n",
              "    <tr>\n",
              "      <th>1</th>\n",
              "      <td>C (24)</td>\n",
              "      <td>D (20)</td>\n",
              "      <td>C (24)</td>\n",
              "      <td>D (20)</td>\n",
              "      <td>D (20)</td>\n",
              "      <td>E (18)</td>\n",
              "      <td>E (18)</td>\n",
              "      <td>A (16)</td>\n",
              "      <td>A (24)</td>\n",
              "      <td>6.41</td>\n",
              "      <td>6.34</td>\n",
              "      <td>6.38</td>\n",
              "      <td>0</td>\n",
              "      <td>P</td>\n",
              "    </tr>\n",
              "    <tr>\n",
              "      <th>2</th>\n",
              "      <td>B (28)</td>\n",
              "      <td>B (28)</td>\n",
              "      <td>C (24)</td>\n",
              "      <td>B (28)</td>\n",
              "      <td>B (28)</td>\n",
              "      <td>E (18)</td>\n",
              "      <td>O (20)</td>\n",
              "      <td>A (16)</td>\n",
              "      <td>O (30)</td>\n",
              "      <td>7.37</td>\n",
              "      <td>7.59</td>\n",
              "      <td>7.48</td>\n",
              "      <td>0</td>\n",
              "      <td>P</td>\n",
              "    </tr>\n",
              "    <tr>\n",
              "      <th>3</th>\n",
              "      <td>C (24)</td>\n",
              "      <td>C (24)</td>\n",
              "      <td>C (24)</td>\n",
              "      <td>A (32)</td>\n",
              "      <td>B (28)</td>\n",
              "      <td>A (16)</td>\n",
              "      <td>E (18)</td>\n",
              "      <td>A (16)</td>\n",
              "      <td>A (24)</td>\n",
              "      <td>7.74</td>\n",
              "      <td>7.10</td>\n",
              "      <td>7.41</td>\n",
              "      <td>0</td>\n",
              "      <td>P</td>\n",
              "    </tr>\n",
              "    <tr>\n",
              "      <th>4</th>\n",
              "      <td>B (28)</td>\n",
              "      <td>A (32)</td>\n",
              "      <td>D (20)</td>\n",
              "      <td>A (32)</td>\n",
              "      <td>B (28)</td>\n",
              "      <td>E (18)</td>\n",
              "      <td>O (20)</td>\n",
              "      <td>O (20)</td>\n",
              "      <td>O (30)</td>\n",
              "      <td>7.96</td>\n",
              "      <td>7.86</td>\n",
              "      <td>7.91</td>\n",
              "      <td>0</td>\n",
              "      <td>P</td>\n",
              "    </tr>\n",
              "  </tbody>\n",
              "</table>\n",
              "</div>"
            ],
            "text/plain": [
              "    CS201   CH201    M201   ME201   ES201  ... SGPA1 SGPA2  YGPA DGPA  RESULT\n",
              "0  C (24)  C (24)  D (20)  C (24)  C (24)  ...  6.19  6.48  6.34    0      XP\n",
              "1  C (24)  D (20)  C (24)  D (20)  D (20)  ...  6.41  6.34  6.38    0       P\n",
              "2  B (28)  B (28)  C (24)  B (28)  B (28)  ...  7.37  7.59  7.48    0       P\n",
              "3  C (24)  C (24)  C (24)  A (32)  B (28)  ...  7.74  7.10  7.41    0       P\n",
              "4  B (28)  A (32)  D (20)  A (32)  B (28)  ...  7.96  7.86  7.91    0       P\n",
              "\n",
              "[5 rows x 14 columns]"
            ]
          },
          "metadata": {
            "tags": []
          },
          "execution_count": 10
        }
      ]
    },
    {
      "cell_type": "code",
      "metadata": {
        "id": "77DcqBnN7CNR",
        "colab_type": "code",
        "colab": {}
      },
      "source": [
        "# extract digit from grade feature columns\n",
        "def extract_digit(x):\n",
        "  z = int(''.join(list(filter(lambda i:i.isdigit(),list(x)))))\n",
        "  return z\n"
      ],
      "execution_count": null,
      "outputs": []
    },
    {
      "cell_type": "code",
      "metadata": {
        "id": "TlJJ5wFSAvV1",
        "colab_type": "code",
        "colab": {
          "base_uri": "https://localhost:8080/",
          "height": 34
        },
        "outputId": "253d0d08-0eb8-47e2-fea9-3e1ae2894c7c"
      },
      "source": [
        "g = (list(df.columns))[:9]\n",
        "print(g)"
      ],
      "execution_count": null,
      "outputs": [
        {
          "output_type": "stream",
          "text": [
            "['CS201', 'CH201', 'M201', 'ME201', 'ES201', 'CS291', 'CH291', 'ES291', 'ME291']\n"
          ],
          "name": "stdout"
        }
      ]
    },
    {
      "cell_type": "code",
      "metadata": {
        "id": "fqxmhEsKGOW0",
        "colab_type": "code",
        "colab": {}
      },
      "source": [
        "\n",
        "grade_features = g #['CS201','CH201','M201','ME201','ES201','CH291','CS291','ES291','ME291']\n",
        "\n",
        "for var in grade_features:\n",
        "  df[var] = df[var].apply(extract_digit)\n",
        "    "
      ],
      "execution_count": null,
      "outputs": []
    },
    {
      "cell_type": "code",
      "metadata": {
        "id": "n2p4B6jjAsPT",
        "colab_type": "code",
        "colab": {
          "base_uri": "https://localhost:8080/",
          "height": 206
        },
        "outputId": "9a96f419-8ff2-4ba9-ce00-77d78f79d1ad"
      },
      "source": [
        "df.head()"
      ],
      "execution_count": null,
      "outputs": [
        {
          "output_type": "execute_result",
          "data": {
            "text/html": [
              "<div>\n",
              "<style scoped>\n",
              "    .dataframe tbody tr th:only-of-type {\n",
              "        vertical-align: middle;\n",
              "    }\n",
              "\n",
              "    .dataframe tbody tr th {\n",
              "        vertical-align: top;\n",
              "    }\n",
              "\n",
              "    .dataframe thead th {\n",
              "        text-align: right;\n",
              "    }\n",
              "</style>\n",
              "<table border=\"1\" class=\"dataframe\">\n",
              "  <thead>\n",
              "    <tr style=\"text-align: right;\">\n",
              "      <th></th>\n",
              "      <th>CS201</th>\n",
              "      <th>CH201</th>\n",
              "      <th>M201</th>\n",
              "      <th>ME201</th>\n",
              "      <th>ES201</th>\n",
              "      <th>CS291</th>\n",
              "      <th>CH291</th>\n",
              "      <th>ES291</th>\n",
              "      <th>ME291</th>\n",
              "      <th>SGPA1</th>\n",
              "      <th>SGPA2</th>\n",
              "      <th>YGPA</th>\n",
              "      <th>DGPA</th>\n",
              "      <th>RESULT</th>\n",
              "    </tr>\n",
              "  </thead>\n",
              "  <tbody>\n",
              "    <tr>\n",
              "      <th>0</th>\n",
              "      <td>24</td>\n",
              "      <td>24</td>\n",
              "      <td>20</td>\n",
              "      <td>24</td>\n",
              "      <td>24</td>\n",
              "      <td>16</td>\n",
              "      <td>16</td>\n",
              "      <td>16</td>\n",
              "      <td>24</td>\n",
              "      <td>6.19</td>\n",
              "      <td>6.48</td>\n",
              "      <td>6.34</td>\n",
              "      <td>0</td>\n",
              "      <td>XP</td>\n",
              "    </tr>\n",
              "    <tr>\n",
              "      <th>1</th>\n",
              "      <td>24</td>\n",
              "      <td>20</td>\n",
              "      <td>24</td>\n",
              "      <td>20</td>\n",
              "      <td>20</td>\n",
              "      <td>18</td>\n",
              "      <td>18</td>\n",
              "      <td>16</td>\n",
              "      <td>24</td>\n",
              "      <td>6.41</td>\n",
              "      <td>6.34</td>\n",
              "      <td>6.38</td>\n",
              "      <td>0</td>\n",
              "      <td>P</td>\n",
              "    </tr>\n",
              "    <tr>\n",
              "      <th>2</th>\n",
              "      <td>28</td>\n",
              "      <td>28</td>\n",
              "      <td>24</td>\n",
              "      <td>28</td>\n",
              "      <td>28</td>\n",
              "      <td>18</td>\n",
              "      <td>20</td>\n",
              "      <td>16</td>\n",
              "      <td>30</td>\n",
              "      <td>7.37</td>\n",
              "      <td>7.59</td>\n",
              "      <td>7.48</td>\n",
              "      <td>0</td>\n",
              "      <td>P</td>\n",
              "    </tr>\n",
              "    <tr>\n",
              "      <th>3</th>\n",
              "      <td>24</td>\n",
              "      <td>24</td>\n",
              "      <td>24</td>\n",
              "      <td>32</td>\n",
              "      <td>28</td>\n",
              "      <td>16</td>\n",
              "      <td>18</td>\n",
              "      <td>16</td>\n",
              "      <td>24</td>\n",
              "      <td>7.74</td>\n",
              "      <td>7.10</td>\n",
              "      <td>7.41</td>\n",
              "      <td>0</td>\n",
              "      <td>P</td>\n",
              "    </tr>\n",
              "    <tr>\n",
              "      <th>4</th>\n",
              "      <td>28</td>\n",
              "      <td>32</td>\n",
              "      <td>20</td>\n",
              "      <td>32</td>\n",
              "      <td>28</td>\n",
              "      <td>18</td>\n",
              "      <td>20</td>\n",
              "      <td>20</td>\n",
              "      <td>30</td>\n",
              "      <td>7.96</td>\n",
              "      <td>7.86</td>\n",
              "      <td>7.91</td>\n",
              "      <td>0</td>\n",
              "      <td>P</td>\n",
              "    </tr>\n",
              "  </tbody>\n",
              "</table>\n",
              "</div>"
            ],
            "text/plain": [
              "   CS201  CH201  M201  ME201  ES201  ...  SGPA1  SGPA2  YGPA  DGPA  RESULT\n",
              "0     24     24    20     24     24  ...   6.19   6.48  6.34     0      XP\n",
              "1     24     20    24     20     20  ...   6.41   6.34  6.38     0       P\n",
              "2     28     28    24     28     28  ...   7.37   7.59  7.48     0       P\n",
              "3     24     24    24     32     28  ...   7.74   7.10  7.41     0       P\n",
              "4     28     32    20     32     28  ...   7.96   7.86  7.91     0       P\n",
              "\n",
              "[5 rows x 14 columns]"
            ]
          },
          "metadata": {
            "tags": []
          },
          "execution_count": 14
        }
      ]
    },
    {
      "cell_type": "code",
      "metadata": {
        "id": "qQhaPLRbLpgF",
        "colab_type": "code",
        "colab": {}
      },
      "source": [
        ""
      ],
      "execution_count": null,
      "outputs": []
    },
    {
      "cell_type": "code",
      "metadata": {
        "id": "h905vCrsBhDy",
        "colab_type": "code",
        "colab": {}
      },
      "source": [
        "from collections import Counter"
      ],
      "execution_count": null,
      "outputs": []
    },
    {
      "cell_type": "code",
      "metadata": {
        "id": "i4uDbakyLe1w",
        "colab_type": "code",
        "colab": {
          "base_uri": "https://localhost:8080/",
          "height": 34
        },
        "outputId": "59c33230-b8f7-4091-eec2-8099f6c4d8a6"
      },
      "source": [
        "print(Counter(df['RESULT']).items())"
      ],
      "execution_count": null,
      "outputs": [
        {
          "output_type": "stream",
          "text": [
            "dict_items([('XP', 99), ('P', 218)])\n"
          ],
          "name": "stdout"
        }
      ]
    },
    {
      "cell_type": "code",
      "metadata": {
        "id": "nzkBXP6SMJqo",
        "colab_type": "code",
        "colab": {}
      },
      "source": [
        "# replacing XP by 0 and P by 1\n",
        "def replace(x):\n",
        "  return 0 if x == 'XP' else 1\n",
        "\n",
        "df['RESULT'] = df['RESULT'].apply(replace)"
      ],
      "execution_count": null,
      "outputs": []
    },
    {
      "cell_type": "code",
      "metadata": {
        "id": "6-UT0Cs_M0xj",
        "colab_type": "code",
        "colab": {
          "base_uri": "https://localhost:8080/",
          "height": 206
        },
        "outputId": "dbe63200-d151-4aef-f017-e0e49269ce91"
      },
      "source": [
        "\n",
        "\n",
        "df_Y = df.pop('RESULT')\n",
        "df.head()\n"
      ],
      "execution_count": null,
      "outputs": [
        {
          "output_type": "execute_result",
          "data": {
            "text/html": [
              "<div>\n",
              "<style scoped>\n",
              "    .dataframe tbody tr th:only-of-type {\n",
              "        vertical-align: middle;\n",
              "    }\n",
              "\n",
              "    .dataframe tbody tr th {\n",
              "        vertical-align: top;\n",
              "    }\n",
              "\n",
              "    .dataframe thead th {\n",
              "        text-align: right;\n",
              "    }\n",
              "</style>\n",
              "<table border=\"1\" class=\"dataframe\">\n",
              "  <thead>\n",
              "    <tr style=\"text-align: right;\">\n",
              "      <th></th>\n",
              "      <th>CS201</th>\n",
              "      <th>CH201</th>\n",
              "      <th>M201</th>\n",
              "      <th>ME201</th>\n",
              "      <th>ES201</th>\n",
              "      <th>CS291</th>\n",
              "      <th>CH291</th>\n",
              "      <th>ES291</th>\n",
              "      <th>ME291</th>\n",
              "      <th>SGPA1</th>\n",
              "      <th>SGPA2</th>\n",
              "      <th>YGPA</th>\n",
              "      <th>DGPA</th>\n",
              "    </tr>\n",
              "  </thead>\n",
              "  <tbody>\n",
              "    <tr>\n",
              "      <th>0</th>\n",
              "      <td>24</td>\n",
              "      <td>24</td>\n",
              "      <td>20</td>\n",
              "      <td>24</td>\n",
              "      <td>24</td>\n",
              "      <td>16</td>\n",
              "      <td>16</td>\n",
              "      <td>16</td>\n",
              "      <td>24</td>\n",
              "      <td>6.19</td>\n",
              "      <td>6.48</td>\n",
              "      <td>6.34</td>\n",
              "      <td>0</td>\n",
              "    </tr>\n",
              "    <tr>\n",
              "      <th>1</th>\n",
              "      <td>24</td>\n",
              "      <td>20</td>\n",
              "      <td>24</td>\n",
              "      <td>20</td>\n",
              "      <td>20</td>\n",
              "      <td>18</td>\n",
              "      <td>18</td>\n",
              "      <td>16</td>\n",
              "      <td>24</td>\n",
              "      <td>6.41</td>\n",
              "      <td>6.34</td>\n",
              "      <td>6.38</td>\n",
              "      <td>0</td>\n",
              "    </tr>\n",
              "    <tr>\n",
              "      <th>2</th>\n",
              "      <td>28</td>\n",
              "      <td>28</td>\n",
              "      <td>24</td>\n",
              "      <td>28</td>\n",
              "      <td>28</td>\n",
              "      <td>18</td>\n",
              "      <td>20</td>\n",
              "      <td>16</td>\n",
              "      <td>30</td>\n",
              "      <td>7.37</td>\n",
              "      <td>7.59</td>\n",
              "      <td>7.48</td>\n",
              "      <td>0</td>\n",
              "    </tr>\n",
              "    <tr>\n",
              "      <th>3</th>\n",
              "      <td>24</td>\n",
              "      <td>24</td>\n",
              "      <td>24</td>\n",
              "      <td>32</td>\n",
              "      <td>28</td>\n",
              "      <td>16</td>\n",
              "      <td>18</td>\n",
              "      <td>16</td>\n",
              "      <td>24</td>\n",
              "      <td>7.74</td>\n",
              "      <td>7.10</td>\n",
              "      <td>7.41</td>\n",
              "      <td>0</td>\n",
              "    </tr>\n",
              "    <tr>\n",
              "      <th>4</th>\n",
              "      <td>28</td>\n",
              "      <td>32</td>\n",
              "      <td>20</td>\n",
              "      <td>32</td>\n",
              "      <td>28</td>\n",
              "      <td>18</td>\n",
              "      <td>20</td>\n",
              "      <td>20</td>\n",
              "      <td>30</td>\n",
              "      <td>7.96</td>\n",
              "      <td>7.86</td>\n",
              "      <td>7.91</td>\n",
              "      <td>0</td>\n",
              "    </tr>\n",
              "  </tbody>\n",
              "</table>\n",
              "</div>"
            ],
            "text/plain": [
              "   CS201  CH201  M201  ME201  ES201  ...  ME291  SGPA1  SGPA2  YGPA  DGPA\n",
              "0     24     24    20     24     24  ...     24   6.19   6.48  6.34     0\n",
              "1     24     20    24     20     20  ...     24   6.41   6.34  6.38     0\n",
              "2     28     28    24     28     28  ...     30   7.37   7.59  7.48     0\n",
              "3     24     24    24     32     28  ...     24   7.74   7.10  7.41     0\n",
              "4     28     32    20     32     28  ...     30   7.96   7.86  7.91     0\n",
              "\n",
              "[5 rows x 13 columns]"
            ]
          },
          "metadata": {
            "tags": []
          },
          "execution_count": 18
        }
      ]
    },
    {
      "cell_type": "code",
      "metadata": {
        "id": "tSq_XOyqJqn8",
        "colab_type": "code",
        "colab": {
          "base_uri": "https://localhost:8080/",
          "height": 206
        },
        "outputId": "b5d39461-4b49-440e-c49a-dee7bcaa57fd"
      },
      "source": [
        "drop_list = ['SGPA1','SGPA2','YGPA','DGPA']\n",
        "df = df.drop(drop_list,axis=1)\n",
        "df.head()"
      ],
      "execution_count": null,
      "outputs": [
        {
          "output_type": "execute_result",
          "data": {
            "text/html": [
              "<div>\n",
              "<style scoped>\n",
              "    .dataframe tbody tr th:only-of-type {\n",
              "        vertical-align: middle;\n",
              "    }\n",
              "\n",
              "    .dataframe tbody tr th {\n",
              "        vertical-align: top;\n",
              "    }\n",
              "\n",
              "    .dataframe thead th {\n",
              "        text-align: right;\n",
              "    }\n",
              "</style>\n",
              "<table border=\"1\" class=\"dataframe\">\n",
              "  <thead>\n",
              "    <tr style=\"text-align: right;\">\n",
              "      <th></th>\n",
              "      <th>CS201</th>\n",
              "      <th>CH201</th>\n",
              "      <th>M201</th>\n",
              "      <th>ME201</th>\n",
              "      <th>ES201</th>\n",
              "      <th>CS291</th>\n",
              "      <th>CH291</th>\n",
              "      <th>ES291</th>\n",
              "      <th>ME291</th>\n",
              "    </tr>\n",
              "  </thead>\n",
              "  <tbody>\n",
              "    <tr>\n",
              "      <th>0</th>\n",
              "      <td>24</td>\n",
              "      <td>24</td>\n",
              "      <td>20</td>\n",
              "      <td>24</td>\n",
              "      <td>24</td>\n",
              "      <td>16</td>\n",
              "      <td>16</td>\n",
              "      <td>16</td>\n",
              "      <td>24</td>\n",
              "    </tr>\n",
              "    <tr>\n",
              "      <th>1</th>\n",
              "      <td>24</td>\n",
              "      <td>20</td>\n",
              "      <td>24</td>\n",
              "      <td>20</td>\n",
              "      <td>20</td>\n",
              "      <td>18</td>\n",
              "      <td>18</td>\n",
              "      <td>16</td>\n",
              "      <td>24</td>\n",
              "    </tr>\n",
              "    <tr>\n",
              "      <th>2</th>\n",
              "      <td>28</td>\n",
              "      <td>28</td>\n",
              "      <td>24</td>\n",
              "      <td>28</td>\n",
              "      <td>28</td>\n",
              "      <td>18</td>\n",
              "      <td>20</td>\n",
              "      <td>16</td>\n",
              "      <td>30</td>\n",
              "    </tr>\n",
              "    <tr>\n",
              "      <th>3</th>\n",
              "      <td>24</td>\n",
              "      <td>24</td>\n",
              "      <td>24</td>\n",
              "      <td>32</td>\n",
              "      <td>28</td>\n",
              "      <td>16</td>\n",
              "      <td>18</td>\n",
              "      <td>16</td>\n",
              "      <td>24</td>\n",
              "    </tr>\n",
              "    <tr>\n",
              "      <th>4</th>\n",
              "      <td>28</td>\n",
              "      <td>32</td>\n",
              "      <td>20</td>\n",
              "      <td>32</td>\n",
              "      <td>28</td>\n",
              "      <td>18</td>\n",
              "      <td>20</td>\n",
              "      <td>20</td>\n",
              "      <td>30</td>\n",
              "    </tr>\n",
              "  </tbody>\n",
              "</table>\n",
              "</div>"
            ],
            "text/plain": [
              "   CS201  CH201  M201  ME201  ES201  CS291  CH291  ES291  ME291\n",
              "0     24     24    20     24     24     16     16     16     24\n",
              "1     24     20    24     20     20     18     18     16     24\n",
              "2     28     28    24     28     28     18     20     16     30\n",
              "3     24     24    24     32     28     16     18     16     24\n",
              "4     28     32    20     32     28     18     20     20     30"
            ]
          },
          "metadata": {
            "tags": []
          },
          "execution_count": 19
        }
      ]
    },
    {
      "cell_type": "code",
      "metadata": {
        "id": "DZICZ1PC_C62",
        "colab_type": "code",
        "colab": {
          "base_uri": "https://localhost:8080/",
          "height": 52
        },
        "outputId": "6fcd8aba-7309-4d9c-8802-b33fdad2786c"
      },
      "source": [
        "# retaining df that has to be used further\n",
        "X = df.values\n",
        "print(X[:2])"
      ],
      "execution_count": null,
      "outputs": [
        {
          "output_type": "stream",
          "text": [
            "[[24 24 20 24 24 16 16 16 24]\n",
            " [24 20 24 20 20 18 18 16 24]]\n"
          ],
          "name": "stdout"
        }
      ]
    },
    {
      "cell_type": "code",
      "metadata": {
        "id": "wdULAxDlM67B",
        "colab_type": "code",
        "colab": {
          "base_uri": "https://localhost:8080/",
          "height": 34
        },
        "outputId": "2646f7a0-a150-4745-fc10-852672e7a52e"
      },
      "source": [
        "df.shape"
      ],
      "execution_count": null,
      "outputs": [
        {
          "output_type": "execute_result",
          "data": {
            "text/plain": [
              "(317, 9)"
            ]
          },
          "metadata": {
            "tags": []
          },
          "execution_count": 21
        }
      ]
    },
    {
      "cell_type": "code",
      "metadata": {
        "id": "uuZmvAi9Ng4N",
        "colab_type": "code",
        "colab": {
          "base_uri": "https://localhost:8080/",
          "height": 69
        },
        "outputId": "b1bae2b5-03a0-41f0-8616-141011a990f2"
      },
      "source": [
        "df.columns\n"
      ],
      "execution_count": null,
      "outputs": [
        {
          "output_type": "execute_result",
          "data": {
            "text/plain": [
              "Index(['CS201', 'CH201', 'M201', 'ME201', 'ES201', 'CS291', 'CH291', 'ES291',\n",
              "       'ME291'],\n",
              "      dtype='object')"
            ]
          },
          "metadata": {
            "tags": []
          },
          "execution_count": 22
        }
      ]
    },
    {
      "cell_type": "code",
      "metadata": {
        "id": "ee8cSJ-1Nxqi",
        "colab_type": "code",
        "colab": {
          "base_uri": "https://localhost:8080/",
          "height": 206
        },
        "outputId": "4e759702-1784-4cf1-8e15-5e96377906f8"
      },
      "source": [
        "# scaling data\n",
        "from sklearn.preprocessing import StandardScaler\n",
        "scaled_data = StandardScaler().fit(df).fit_transform(df)\n",
        "df_X = pd.DataFrame(scaled_data,columns=df.columns)\n",
        "df_X.head()"
      ],
      "execution_count": null,
      "outputs": [
        {
          "output_type": "execute_result",
          "data": {
            "text/html": [
              "<div>\n",
              "<style scoped>\n",
              "    .dataframe tbody tr th:only-of-type {\n",
              "        vertical-align: middle;\n",
              "    }\n",
              "\n",
              "    .dataframe tbody tr th {\n",
              "        vertical-align: top;\n",
              "    }\n",
              "\n",
              "    .dataframe thead th {\n",
              "        text-align: right;\n",
              "    }\n",
              "</style>\n",
              "<table border=\"1\" class=\"dataframe\">\n",
              "  <thead>\n",
              "    <tr style=\"text-align: right;\">\n",
              "      <th></th>\n",
              "      <th>CS201</th>\n",
              "      <th>CH201</th>\n",
              "      <th>M201</th>\n",
              "      <th>ME201</th>\n",
              "      <th>ES201</th>\n",
              "      <th>CS291</th>\n",
              "      <th>CH291</th>\n",
              "      <th>ES291</th>\n",
              "      <th>ME291</th>\n",
              "    </tr>\n",
              "  </thead>\n",
              "  <tbody>\n",
              "    <tr>\n",
              "      <th>0</th>\n",
              "      <td>0.177715</td>\n",
              "      <td>-0.529377</td>\n",
              "      <td>-0.910818</td>\n",
              "      <td>-0.095968</td>\n",
              "      <td>-0.168732</td>\n",
              "      <td>-0.846355</td>\n",
              "      <td>-0.832545</td>\n",
              "      <td>-1.176205</td>\n",
              "      <td>-1.130047</td>\n",
              "    </tr>\n",
              "    <tr>\n",
              "      <th>1</th>\n",
              "      <td>0.177715</td>\n",
              "      <td>-1.255837</td>\n",
              "      <td>-0.178002</td>\n",
              "      <td>-0.659333</td>\n",
              "      <td>-0.881908</td>\n",
              "      <td>0.253213</td>\n",
              "      <td>0.170941</td>\n",
              "      <td>-1.176205</td>\n",
              "      <td>-1.130047</td>\n",
              "    </tr>\n",
              "    <tr>\n",
              "      <th>2</th>\n",
              "      <td>0.730027</td>\n",
              "      <td>0.197084</td>\n",
              "      <td>-0.178002</td>\n",
              "      <td>0.467398</td>\n",
              "      <td>0.544443</td>\n",
              "      <td>0.253213</td>\n",
              "      <td>1.174427</td>\n",
              "      <td>-1.176205</td>\n",
              "      <td>1.543274</td>\n",
              "    </tr>\n",
              "    <tr>\n",
              "      <th>3</th>\n",
              "      <td>0.177715</td>\n",
              "      <td>-0.529377</td>\n",
              "      <td>-0.178002</td>\n",
              "      <td>1.030763</td>\n",
              "      <td>0.544443</td>\n",
              "      <td>-0.846355</td>\n",
              "      <td>0.170941</td>\n",
              "      <td>-1.176205</td>\n",
              "      <td>-1.130047</td>\n",
              "    </tr>\n",
              "    <tr>\n",
              "      <th>4</th>\n",
              "      <td>0.730027</td>\n",
              "      <td>0.923545</td>\n",
              "      <td>-0.910818</td>\n",
              "      <td>1.030763</td>\n",
              "      <td>0.544443</td>\n",
              "      <td>0.253213</td>\n",
              "      <td>1.174427</td>\n",
              "      <td>1.525657</td>\n",
              "      <td>1.543274</td>\n",
              "    </tr>\n",
              "  </tbody>\n",
              "</table>\n",
              "</div>"
            ],
            "text/plain": [
              "      CS201     CH201      M201  ...     CH291     ES291     ME291\n",
              "0  0.177715 -0.529377 -0.910818  ... -0.832545 -1.176205 -1.130047\n",
              "1  0.177715 -1.255837 -0.178002  ...  0.170941 -1.176205 -1.130047\n",
              "2  0.730027  0.197084 -0.178002  ...  1.174427 -1.176205  1.543274\n",
              "3  0.177715 -0.529377 -0.178002  ...  0.170941 -1.176205 -1.130047\n",
              "4  0.730027  0.923545 -0.910818  ...  1.174427  1.525657  1.543274\n",
              "\n",
              "[5 rows x 9 columns]"
            ]
          },
          "metadata": {
            "tags": []
          },
          "execution_count": 23
        }
      ]
    },
    {
      "cell_type": "markdown",
      "metadata": {
        "id": "MFScArjhHKHY",
        "colab_type": "text"
      },
      "source": [
        "## Creating a Machine Learning Model"
      ]
    },
    {
      "cell_type": "markdown",
      "metadata": {
        "id": "EyBWD7yOHa0v",
        "colab_type": "text"
      },
      "source": [
        "#### supervised learning"
      ]
    },
    {
      "cell_type": "code",
      "metadata": {
        "id": "NFgpoJ7LMrxr",
        "colab_type": "code",
        "colab": {
          "base_uri": "https://localhost:8080/",
          "height": 419
        },
        "outputId": "84de04f6-ea32-4fc3-b22e-4ae470eb3ff8"
      },
      "source": [
        "from sklearn.model_selection import train_test_split\n",
        "X_train,X_test,Y_train,Y_test = train_test_split(df_X,df_Y,test_size=.2)\n",
        "print(X_train.shape,X_test.shape,Y_train.shape,Y_test.shape)\n",
        "\n",
        "\n",
        "\n",
        "etc = ExtraTreesClassifier()\n",
        "\n",
        "#cross validation\n",
        "kf = KFold(n_splits=10)\n",
        "cv_score = cross_val_score(etc,X_train,Y_train,cv=kf,scoring='accuracy')\n",
        "print('mean_cv_score:',np.mean(cv_score))\n",
        "\n"
      ],
      "execution_count": null,
      "outputs": [
        {
          "output_type": "stream",
          "text": [
            "(253, 9) (64, 9) (253,) (64,)\n",
            "mean_cv_score: 0.8812307692307693\n"
          ],
          "name": "stdout"
        },
        {
          "output_type": "stream",
          "text": [
            "/usr/local/lib/python3.6/dist-packages/sklearn/ensemble/forest.py:245: FutureWarning: The default value of n_estimators will change from 10 in version 0.20 to 100 in 0.22.\n",
            "  \"10 in version 0.20 to 100 in 0.22.\", FutureWarning)\n",
            "/usr/local/lib/python3.6/dist-packages/sklearn/ensemble/forest.py:245: FutureWarning: The default value of n_estimators will change from 10 in version 0.20 to 100 in 0.22.\n",
            "  \"10 in version 0.20 to 100 in 0.22.\", FutureWarning)\n",
            "/usr/local/lib/python3.6/dist-packages/sklearn/ensemble/forest.py:245: FutureWarning: The default value of n_estimators will change from 10 in version 0.20 to 100 in 0.22.\n",
            "  \"10 in version 0.20 to 100 in 0.22.\", FutureWarning)\n",
            "/usr/local/lib/python3.6/dist-packages/sklearn/ensemble/forest.py:245: FutureWarning: The default value of n_estimators will change from 10 in version 0.20 to 100 in 0.22.\n",
            "  \"10 in version 0.20 to 100 in 0.22.\", FutureWarning)\n",
            "/usr/local/lib/python3.6/dist-packages/sklearn/ensemble/forest.py:245: FutureWarning: The default value of n_estimators will change from 10 in version 0.20 to 100 in 0.22.\n",
            "  \"10 in version 0.20 to 100 in 0.22.\", FutureWarning)\n",
            "/usr/local/lib/python3.6/dist-packages/sklearn/ensemble/forest.py:245: FutureWarning: The default value of n_estimators will change from 10 in version 0.20 to 100 in 0.22.\n",
            "  \"10 in version 0.20 to 100 in 0.22.\", FutureWarning)\n",
            "/usr/local/lib/python3.6/dist-packages/sklearn/ensemble/forest.py:245: FutureWarning: The default value of n_estimators will change from 10 in version 0.20 to 100 in 0.22.\n",
            "  \"10 in version 0.20 to 100 in 0.22.\", FutureWarning)\n",
            "/usr/local/lib/python3.6/dist-packages/sklearn/ensemble/forest.py:245: FutureWarning: The default value of n_estimators will change from 10 in version 0.20 to 100 in 0.22.\n",
            "  \"10 in version 0.20 to 100 in 0.22.\", FutureWarning)\n",
            "/usr/local/lib/python3.6/dist-packages/sklearn/ensemble/forest.py:245: FutureWarning: The default value of n_estimators will change from 10 in version 0.20 to 100 in 0.22.\n",
            "  \"10 in version 0.20 to 100 in 0.22.\", FutureWarning)\n",
            "/usr/local/lib/python3.6/dist-packages/sklearn/ensemble/forest.py:245: FutureWarning: The default value of n_estimators will change from 10 in version 0.20 to 100 in 0.22.\n",
            "  \"10 in version 0.20 to 100 in 0.22.\", FutureWarning)\n"
          ],
          "name": "stderr"
        }
      ]
    },
    {
      "cell_type": "code",
      "metadata": {
        "id": "XxMQMs5PRD4g",
        "colab_type": "code",
        "colab": {}
      },
      "source": [
        ""
      ],
      "execution_count": null,
      "outputs": []
    },
    {
      "cell_type": "markdown",
      "metadata": {
        "id": "O6vU7WDUQccX",
        "colab_type": "text"
      },
      "source": [
        "# tuning rfc"
      ]
    },
    {
      "cell_type": "code",
      "metadata": {
        "id": "3myjmHw7QbBY",
        "colab_type": "code",
        "colab": {
          "base_uri": "https://localhost:8080/",
          "height": 106
        },
        "outputId": "c4af3e55-9865-460d-f612-038cd45fe28f"
      },
      "source": [
        "# No. of trees in ExtraTreesClassifier\n",
        "n_estimators = [int(x) for x in np.linspace(start=100,stop=500,num=15)]\n",
        "print(n_estimators)\n",
        "\n",
        "# No. of features to consider  at every split\n",
        "max_features = ['auto','sqrt','log2',None]\n",
        "print(max_features)\n",
        "\n",
        "# Maxm no. of levels in tree\n",
        "max_depth = [int(i) for i in np.linspace(start=10,stop=150)]\n",
        "max_depth.append(None)\n",
        "print(max_depth)\n",
        "\n",
        "#Minm no. of samples to split a node\n",
        "min_samples_split=[2,3,4,5,10]\n",
        "\n",
        "# Minm no. of samples required at each leaf node\n",
        "min_samples_leaf = [1,2,4]\n",
        "\n",
        "# methods for selecting samples for traning  each tree\n",
        "bootstrap = [True,False]\n",
        "\n",
        "# create param_grid\n",
        "param_grid = dict(n_estimators = n_estimators,\n",
        "                 max_features = max_features,\n",
        "                 max_depth = max_depth,\n",
        "                 min_samples_split = min_samples_split,\n",
        "                 min_samples_leaf = min_samples_leaf,\n",
        "                 bootstrap = bootstrap)\n",
        "\n",
        "print (param_grid)\n",
        "\n",
        "# cross validation using RandomizedSearchCV\n",
        "rscv =  RandomizedSearchCV(etc,param_grid,cv=kf,scoring='accuracy')\n",
        "\n"
      ],
      "execution_count": null,
      "outputs": [
        {
          "output_type": "stream",
          "text": [
            "[100, 128, 157, 185, 214, 242, 271, 300, 328, 357, 385, 414, 442, 471, 500]\n",
            "['auto', 'sqrt', 'log2', None]\n",
            "[10, 12, 15, 18, 21, 24, 27, 30, 32, 35, 38, 41, 44, 47, 50, 52, 55, 58, 61, 64, 67, 70, 72, 75, 78, 81, 84, 87, 90, 92, 95, 98, 101, 104, 107, 110, 112, 115, 118, 121, 124, 127, 130, 132, 135, 138, 141, 144, 147, 150, None]\n",
            "{'n_estimators': [100, 128, 157, 185, 214, 242, 271, 300, 328, 357, 385, 414, 442, 471, 500], 'max_features': ['auto', 'sqrt', 'log2', None], 'max_depth': [10, 12, 15, 18, 21, 24, 27, 30, 32, 35, 38, 41, 44, 47, 50, 52, 55, 58, 61, 64, 67, 70, 72, 75, 78, 81, 84, 87, 90, 92, 95, 98, 101, 104, 107, 110, 112, 115, 118, 121, 124, 127, 130, 132, 135, 138, 141, 144, 147, 150, None], 'min_samples_split': [2, 3, 4, 5, 10], 'min_samples_leaf': [1, 2, 4], 'bootstrap': [True, False]}\n"
          ],
          "name": "stdout"
        }
      ]
    },
    {
      "cell_type": "code",
      "metadata": {
        "id": "G06BVooigFKz",
        "colab_type": "code",
        "colab": {
          "base_uri": "https://localhost:8080/",
          "height": 541
        },
        "outputId": "0cf640bf-d6e2-401a-86b3-78e4afe8dab6"
      },
      "source": [
        "rscv.fit(X_train,Y_train)"
      ],
      "execution_count": null,
      "outputs": [
        {
          "output_type": "stream",
          "text": [
            "/usr/local/lib/python3.6/dist-packages/sklearn/model_selection/_search.py:814: DeprecationWarning: The default of the `iid` parameter will change from True to False in version 0.22 and will be removed in 0.24. This will change numeric results when test-set sizes are unequal.\n",
            "  DeprecationWarning)\n"
          ],
          "name": "stderr"
        },
        {
          "output_type": "execute_result",
          "data": {
            "text/plain": [
              "RandomizedSearchCV(cv=KFold(n_splits=10, random_state=None, shuffle=False),\n",
              "                   error_score='raise-deprecating',\n",
              "                   estimator=ExtraTreesClassifier(bootstrap=False,\n",
              "                                                  class_weight=None,\n",
              "                                                  criterion='gini',\n",
              "                                                  max_depth=None,\n",
              "                                                  max_features='auto',\n",
              "                                                  max_leaf_nodes=None,\n",
              "                                                  min_impurity_decrease=0.0,\n",
              "                                                  min_impurity_split=None,\n",
              "                                                  min_samples_leaf=1,\n",
              "                                                  min_samples_split=2,\n",
              "                                                  min_weight_fraction...\n",
              "                                                      27, 30, 32, 35, 38, 41,\n",
              "                                                      44, 47, 50, 52, 55, 58,\n",
              "                                                      61, 64, 67, 70, 72, 75,\n",
              "                                                      78, 81, 84, 87, 90, 92, ...],\n",
              "                                        'max_features': ['auto', 'sqrt', 'log2',\n",
              "                                                         None],\n",
              "                                        'min_samples_leaf': [1, 2, 4],\n",
              "                                        'min_samples_split': [2, 3, 4, 5, 10],\n",
              "                                        'n_estimators': [100, 128, 157, 185,\n",
              "                                                         214, 242, 271, 300,\n",
              "                                                         328, 357, 385, 414,\n",
              "                                                         442, 471, 500]},\n",
              "                   pre_dispatch='2*n_jobs', random_state=None, refit=True,\n",
              "                   return_train_score=False, scoring='accuracy', verbose=0)"
            ]
          },
          "metadata": {
            "tags": []
          },
          "execution_count": 26
        }
      ]
    },
    {
      "cell_type": "code",
      "metadata": {
        "id": "GmzNLPS_gcxf",
        "colab_type": "code",
        "colab": {
          "base_uri": "https://localhost:8080/",
          "height": 139
        },
        "outputId": "facb1b2b-09ce-4def-cd80-23019238ae56"
      },
      "source": [
        "rscv.best_estimator_"
      ],
      "execution_count": null,
      "outputs": [
        {
          "output_type": "execute_result",
          "data": {
            "text/plain": [
              "ExtraTreesClassifier(bootstrap=False, class_weight=None, criterion='gini',\n",
              "                     max_depth=121, max_features='sqrt', max_leaf_nodes=None,\n",
              "                     min_impurity_decrease=0.0, min_impurity_split=None,\n",
              "                     min_samples_leaf=1, min_samples_split=4,\n",
              "                     min_weight_fraction_leaf=0.0, n_estimators=328,\n",
              "                     n_jobs=None, oob_score=False, random_state=None, verbose=0,\n",
              "                     warm_start=False)"
            ]
          },
          "metadata": {
            "tags": []
          },
          "execution_count": 27
        }
      ]
    },
    {
      "cell_type": "code",
      "metadata": {
        "id": "rz2AUlOhgru_",
        "colab_type": "code",
        "colab": {
          "base_uri": "https://localhost:8080/",
          "height": 52
        },
        "outputId": "e371d708-8b21-4358-91ae-6a5605b73960"
      },
      "source": [
        "etc =  rscv.best_estimator_#ExtraTreesClassifier(n_estimators=385,min_samples_split=10,min_samples_leaf=1,max_features='sqrt',max_depth=144,\n",
        "                          #bootstrap=True)\n",
        "# cross validation\n",
        "cv_score = cross_val_score(etc,X_train,Y_train,cv=kf,scoring='accuracy')\n",
        "print(np.mean(cv_score))\n",
        "\n",
        "#train the model\n",
        "y_pred = etc.fit(X_train,Y_train).predict(X_test)\n",
        "print(accuracy_score(Y_test,y_pred))"
      ],
      "execution_count": null,
      "outputs": [
        {
          "output_type": "stream",
          "text": [
            "0.908769230769231\n",
            "0.921875\n"
          ],
          "name": "stdout"
        }
      ]
    },
    {
      "cell_type": "code",
      "metadata": {
        "id": "6N1nuxvhgo0Q",
        "colab_type": "code",
        "colab": {}
      },
      "source": [
        "\n",
        "# feature importance\n",
        "x,y =[],[]\n",
        "etc.fit(X_train,Y_train)\n",
        "f = list(zip(df.columns,etc.feature_importances_))\n",
        "k  = lambda s: s[1]\n",
        "f = sorted(f,key=k,reverse=True)\n",
        "for i,j in f:\n",
        "  y.append(i)\n",
        "  x.append(j)"
      ],
      "execution_count": null,
      "outputs": []
    },
    {
      "cell_type": "code",
      "metadata": {
        "id": "STCo1LSEFhq1",
        "colab_type": "code",
        "colab": {
          "base_uri": "https://localhost:8080/",
          "height": 34
        },
        "outputId": "a39f0491-00f1-4b88-d678-671f0267a389"
      },
      "source": [
        "top_3 = [i[0] for i in f[:3]]\n",
        "print(top_3)"
      ],
      "execution_count": null,
      "outputs": [
        {
          "output_type": "stream",
          "text": [
            "['CS201', 'ME201', 'ES201']\n"
          ],
          "name": "stdout"
        }
      ]
    },
    {
      "cell_type": "code",
      "metadata": {
        "id": "BA640nTvjGMP",
        "colab_type": "code",
        "colab": {
          "base_uri": "https://localhost:8080/",
          "height": 350
        },
        "outputId": "17c94d2c-7d76-4397-a241-29129d1edafe"
      },
      "source": [
        "plt.figure(figsize=(15,5))\n",
        "plt.title(\"Subject Importance\")\n",
        "plt.xlabel(\"Relative Importance\")\n",
        "plt.ylabel(\"Subjects\")\n",
        "plt.barh(y,x,height=.7,color='r')\n",
        "\n",
        "plt.show()"
      ],
      "execution_count": null,
      "outputs": [
        {
          "output_type": "display_data",
          "data": {
            "image/png": "[encoded data removed]",
            "text/plain": [
              "<Figure size 1080x360 with 1 Axes>"
            ]
          },
          "metadata": {
            "tags": []
          }
        }
      ]
    },
    {
      "cell_type": "code",
      "metadata": {
        "id": "07AsT0en7W9S",
        "colab_type": "code",
        "colab": {
          "base_uri": "https://localhost:8080/",
          "height": 69
        },
        "outputId": "15032a2b-23b3-4006-ec17-9a6b6ece2b1c"
      },
      "source": [
        "fea_imp = top_3\n",
        "for i in fea_imp:\n",
        "  print('no. of students having marks greater than mean marks of',i,':',df[df[i] > np.mean(df[i])][i].count(),', mean = ',np.mean(df[i]))\n"
      ],
      "execution_count": null,
      "outputs": [
        {
          "output_type": "stream",
          "text": [
            "no. of students having marks greater than mean marks of CS201 : 183 , mean =  22.71293375394322\n",
            "no. of students having marks greater than mean marks of ME201 : 137 , mean =  24.681388012618296\n",
            "no. of students having marks greater than mean marks of ES201 : 146 , mean =  24.946372239747635\n"
          ],
          "name": "stdout"
        }
      ]
    },
    {
      "cell_type": "code",
      "metadata": {
        "id": "I9px9gM5FtBF",
        "colab_type": "code",
        "colab": {
          "base_uri": "https://localhost:8080/",
          "height": 314
        },
        "outputId": "0645dda4-fa15-4fb2-f47b-aa9b334f4643"
      },
      "source": [
        "\n",
        "\n",
        "\n",
        "# no. of students above mean score\n",
        "d_l = [] # list for storing no. of student score more than mean\n",
        "\n",
        "fea_imp = top_3 #['CS201','ME201','ES201']\n",
        "for i in fea_imp:\n",
        "  d_l.append(df[df[i] > np.mean(df[i])][i].count())\n",
        "  \n",
        "# no. of students below mean score\n",
        "l_d = [] # list for storing no. of student score more than mean\n",
        "\n",
        "fea_imp = top_3 #['CS201','ME201','ES201']\n",
        "for i in fea_imp:\n",
        "  l_d.append(df[df[i] < np.mean(df[i])][i].count())\n",
        "\n",
        "#plotting double bar graph\n",
        "\n",
        "n_group = 3\n",
        "\n",
        "#create plot\n",
        "fig, ax = plt.subplots()\n",
        "index = np.arange(n_group)\n",
        "bar_width = 0.35\n",
        "opacity = 0.8\n",
        "\n",
        "plt.bar(index, d_l, bar_width,\n",
        "alpha=opacity,\n",
        "color='b',\n",
        "label='above mean')\n",
        "\n",
        "plt.bar(index + bar_width, l_d, bar_width,\n",
        "alpha=opacity,\n",
        "color='g',\n",
        "label='below mean')\n",
        "\n",
        "plt.title(\"No. of students VS Subjects\")\n",
        "plt.xlabel(\"subjects------>\")\n",
        "plt.ylabel(\"no. of students---->\")\n",
        "\n",
        "plt.xticks(index + bar_width, (top_3))\n",
        "plt.legend()\n",
        "\n",
        "plt.tight_layout()\n",
        "\n",
        "plt.figure(figsize=(10,16))\n",
        "\n",
        "plt.show()"
      ],
      "execution_count": null,
      "outputs": [
        {
          "output_type": "display_data",
          "data": {
            "image/png": "[encoded data removed]",
            "text/plain": [
              "<Figure size 432x288 with 1 Axes>"
            ]
          },
          "metadata": {
            "tags": []
          }
        },
        {
          "output_type": "display_data",
          "data": {
            "text/plain": [
              "<Figure size 720x1152 with 0 Axes>"
            ]
          },
          "metadata": {
            "tags": []
          }
        }
      ]
    },
    {
      "cell_type": "markdown",
      "metadata": {
        "id": "f3QdaUwcKT2q",
        "colab_type": "text"
      },
      "source": [
        "#### Unsupervised Learning\n"
      ]
    },
    {
      "cell_type": "code",
      "metadata": {
        "id": "nYJisGWGQAKV",
        "colab_type": "code",
        "colab": {}
      },
      "source": [
        "from sklearn.decomposition import PCA"
      ],
      "execution_count": null,
      "outputs": []
    },
    {
      "cell_type": "code",
      "metadata": {
        "id": "Y4v7lvknHgHX",
        "colab_type": "code",
        "colab": {
          "base_uri": "https://localhost:8080/",
          "height": 593
        },
        "outputId": "a3956edb-30df-4b99-b7a9-5e347e7a302b"
      },
      "source": [
        "!pip install scikit-plot\n",
        "import scikitplot as skplt\n",
        "pca=PCA().fit(scaled_data)\n",
        "\n",
        "skplt.decomposition.plot_pca_component_variance(pca)"
      ],
      "execution_count": null,
      "outputs": [
        {
          "output_type": "stream",
          "text": [
            "Collecting scikit-plot\n",
            "  Downloading https://files.pythonhosted.org/packages/7c/47/32520e259340c140a4ad27c1b97050dd3254fdc517b1d59974d47037510e/scikit_plot-0.3.7-py3-none-any.whl\n",
            "Requirement already satisfied: scipy>=0.9 in /usr/local/lib/python3.6/dist-packages (from scikit-plot) (1.3.1)\n",
            "Requirement already satisfied: scikit-learn>=0.18 in /usr/local/lib/python3.6/dist-packages (from scikit-plot) (0.21.3)\n",
            "Requirement already satisfied: joblib>=0.10 in /usr/local/lib/python3.6/dist-packages (from scikit-plot) (0.14.0)\n",
            "Requirement already satisfied: matplotlib>=1.4.0 in /usr/local/lib/python3.6/dist-packages (from scikit-plot) (3.1.1)\n",
            "Requirement already satisfied: numpy>=1.13.3 in /usr/local/lib/python3.6/dist-packages (from scipy>=0.9->scikit-plot) (1.17.3)\n",
            "Requirement already satisfied: kiwisolver>=1.0.1 in /usr/local/lib/python3.6/dist-packages (from matplotlib>=1.4.0->scikit-plot) (1.1.0)\n",
            "Requirement already satisfied: python-dateutil>=2.1 in /usr/local/lib/python3.6/dist-packages (from matplotlib>=1.4.0->scikit-plot) (2.6.1)\n",
            "Requirement already satisfied: pyparsing!=2.0.4,!=2.1.2,!=2.1.6,>=2.0.1 in /usr/local/lib/python3.6/dist-packages (from matplotlib>=1.4.0->scikit-plot) (2.4.2)\n",
            "Requirement already satisfied: cycler>=0.10 in /usr/local/lib/python3.6/dist-packages (from matplotlib>=1.4.0->scikit-plot) (0.10.0)\n",
            "Requirement already satisfied: setuptools in /usr/local/lib/python3.6/dist-packages (from kiwisolver>=1.0.1->matplotlib>=1.4.0->scikit-plot) (41.4.0)\n",
            "Requirement already satisfied: six>=1.5 in /usr/local/lib/python3.6/dist-packages (from python-dateutil>=2.1->matplotlib>=1.4.0->scikit-plot) (1.12.0)\n",
            "Installing collected packages: scikit-plot\n",
            "Successfully installed scikit-plot-0.3.7\n"
          ],
          "name": "stdout"
        },
        {
          "output_type": "execute_result",
          "data": {
            "text/plain": [
              "<matplotlib.axes._subplots.AxesSubplot at 0x7f9b94a3b748>"
            ]
          },
          "metadata": {
            "tags": []
          },
          "execution_count": 35
        },
        {
          "output_type": "display_data",
          "data": {
            "image/png": "[encoded data removed]",
            "text/plain": [
              "<Figure size 432x288 with 1 Axes>"
            ]
          },
          "metadata": {
            "tags": []
          }
        }
      ]
    },
    {
      "cell_type": "code",
      "metadata": {
        "id": "N04eTLLtHf_3",
        "colab_type": "code",
        "colab": {}
      },
      "source": [
        "pca_result = PCA(n_components=5).fit(scaled_data).fit_transform(scaled_data)"
      ],
      "execution_count": null,
      "outputs": []
    },
    {
      "cell_type": "code",
      "metadata": {
        "id": "kLfv4DJgQiwo",
        "colab_type": "code",
        "colab": {
          "base_uri": "https://localhost:8080/",
          "height": 265
        },
        "outputId": "8161894d-5024-4329-9862-c8f4f6438ce9"
      },
      "source": [
        "plt.scatter(pca_result[:,0],pca_result[:,1])\n",
        "plt.show()"
      ],
      "execution_count": null,
      "outputs": [
        {
          "output_type": "display_data",
          "data": {
            "image/png": "[encoded data removed]",
            "text/plain": [
              "<Figure size 432x288 with 1 Axes>"
            ]
          },
          "metadata": {
            "tags": []
          }
        }
      ]
    },
    {
      "cell_type": "markdown",
      "metadata": {
        "id": "M1tDtDbHL6UK",
        "colab_type": "text"
      },
      "source": [
        "### Apply K-means clustering"
      ]
    },
    {
      "cell_type": "code",
      "metadata": {
        "id": "OjIzzTaVTTeT",
        "colab_type": "code",
        "colab": {
          "base_uri": "https://localhost:8080/",
          "height": 295
        },
        "outputId": "60b59912-0344-4e9d-8852-15ea9005c38d"
      },
      "source": [
        "from sklearn.cluster import KMeans\n",
        "\n",
        "kmeans = KMeans()\n",
        "elbow_plot = skplt.cluster.plot_elbow_curve(kmeans,pca_result,cluster_ranges=range(1,20))\n"
      ],
      "execution_count": null,
      "outputs": [
        {
          "output_type": "display_data",
          "data": {
            "image/png": "[encoded data removed]",
            "text/plain": [
              "<Figure size 432x288 with 2 Axes>"
            ]
          },
          "metadata": {
            "tags": []
          }
        }
      ]
    },
    {
      "cell_type": "code",
      "metadata": {
        "id": "atpYQxzLHmWP",
        "colab_type": "code",
        "colab": {}
      },
      "source": [
        ""
      ],
      "execution_count": null,
      "outputs": []
    },
    {
      "cell_type": "code",
      "metadata": {
        "id": "hUoakVwoTdZs",
        "colab_type": "code",
        "colab": {}
      },
      "source": [
        ""
      ],
      "execution_count": null,
      "outputs": []
    },
    {
      "cell_type": "code",
      "metadata": {
        "id": "Qn3h2H6VMKel",
        "colab_type": "code",
        "colab": {
          "base_uri": "https://localhost:8080/",
          "height": 54
        },
        "outputId": "f7b4c952-1f88-4a83-eaaf-9b1588def556"
      },
      "source": [
        "kmeans = KMeans(n_clusters=4)\n",
        "kmeans.fit(pca_result)\n",
        "\"\"\"plt.scatter(pca_result[:,0],pca_result[:,1],c=kmeans.labels_)\n",
        "plt.xlabel(\"1st Feature space(1st pca component)\")\n",
        "plt.ylabel(\"2nd Feature space(2nd pca component)\")\n",
        "\n",
        "#cluster centers\n",
        "centers = kmeans.cluster_centers_\n",
        "plt.scatter(centers[:,0],centers[:,1],c='b')\n",
        "\n",
        "#plt.scatter(-2.04031996,  0.05638455,  0.05634186,  0.0096862,c ='g',marker='s', s=100)\n",
        "#plt.scatter(2.13246344, -0.05893095, -0.05888634, -0.01012364, c='g',marker='s',s=100)\n",
        "\n",
        "plt.legend()\n",
        "plt.show()\n",
        "\"\"\""
      ],
      "execution_count": null,
      "outputs": [
        {
          "output_type": "execute_result",
          "data": {
            "text/plain": [
              "'plt.scatter(pca_result[:,0],pca_result[:,1],c=kmeans.labels_)\\nplt.xlabel(\"1st Feature space(1st pca component)\")\\nplt.ylabel(\"2nd Feature space(2nd pca component)\")\\n\\n#cluster centers\\ncenters = kmeans.cluster_centers_\\nplt.scatter(centers[:,0],centers[:,1],c=\\'b\\')\\n\\n#plt.scatter(-2.04031996,  0.05638455,  0.05634186,  0.0096862,c =\\'g\\',marker=\\'s\\', s=100)\\n#plt.scatter(2.13246344, -0.05893095, -0.05888634, -0.01012364, c=\\'g\\',marker=\\'s\\',s=100)\\n\\nplt.legend()\\nplt.show()\\n'"
            ]
          },
          "metadata": {
            "tags": []
          },
          "execution_count": 39
        }
      ]
    },
    {
      "cell_type": "code",
      "metadata": {
        "id": "d0SI5EcWMCon",
        "colab_type": "code",
        "colab": {
          "base_uri": "https://localhost:8080/",
          "height": 34
        },
        "outputId": "0262641c-6107-4ab7-b524-527c8f6e0a53"
      },
      "source": [
        "sorted(Counter(kmeans.labels_).items())"
      ],
      "execution_count": null,
      "outputs": [
        {
          "output_type": "execute_result",
          "data": {
            "text/plain": [
              "[(0, 53), (1, 125), (2, 68), (3, 71)]"
            ]
          },
          "metadata": {
            "tags": []
          },
          "execution_count": 40
        }
      ]
    },
    {
      "cell_type": "code",
      "metadata": {
        "id": "P_SUJm92VYRB",
        "colab_type": "code",
        "colab": {
          "base_uri": "https://localhost:8080/",
          "height": 206
        },
        "outputId": "09f04d2b-b3ad-4302-9389-8be91cc58463"
      },
      "source": [
        "# make a dataframe consisting of pca_result[:,0] and pca_result[:,1] and label(from kmeans)\n",
        "data = pd.DataFrame({'1st_pca_component':list(pca_result[:,0]),\n",
        "                  '2nd_pca_component':list(pca_result[:,1]),\n",
        "                  'label':list(kmeans.labels_)})\n",
        "data.head()"
      ],
      "execution_count": null,
      "outputs": [
        {
          "output_type": "execute_result",
          "data": {
            "text/html": [
              "<div>\n",
              "<style scoped>\n",
              "    .dataframe tbody tr th:only-of-type {\n",
              "        vertical-align: middle;\n",
              "    }\n",
              "\n",
              "    .dataframe tbody tr th {\n",
              "        vertical-align: top;\n",
              "    }\n",
              "\n",
              "    .dataframe thead th {\n",
              "        text-align: right;\n",
              "    }\n",
              "</style>\n",
              "<table border=\"1\" class=\"dataframe\">\n",
              "  <thead>\n",
              "    <tr style=\"text-align: right;\">\n",
              "      <th></th>\n",
              "      <th>1st_pca_component</th>\n",
              "      <th>2nd_pca_component</th>\n",
              "      <th>label</th>\n",
              "    </tr>\n",
              "  </thead>\n",
              "  <tbody>\n",
              "    <tr>\n",
              "      <th>0</th>\n",
              "      <td>-1.731798</td>\n",
              "      <td>1.044752</td>\n",
              "      <td>0</td>\n",
              "    </tr>\n",
              "    <tr>\n",
              "      <th>1</th>\n",
              "      <td>-1.576518</td>\n",
              "      <td>-0.264124</td>\n",
              "      <td>2</td>\n",
              "    </tr>\n",
              "    <tr>\n",
              "      <th>2</th>\n",
              "      <td>1.157654</td>\n",
              "      <td>-0.174605</td>\n",
              "      <td>1</td>\n",
              "    </tr>\n",
              "    <tr>\n",
              "      <th>3</th>\n",
              "      <td>-0.487567</td>\n",
              "      <td>1.290313</td>\n",
              "      <td>0</td>\n",
              "    </tr>\n",
              "    <tr>\n",
              "      <th>4</th>\n",
              "      <td>2.191590</td>\n",
              "      <td>-0.909648</td>\n",
              "      <td>3</td>\n",
              "    </tr>\n",
              "  </tbody>\n",
              "</table>\n",
              "</div>"
            ],
            "text/plain": [
              "   1st_pca_component  2nd_pca_component  label\n",
              "0          -1.731798           1.044752      0\n",
              "1          -1.576518          -0.264124      2\n",
              "2           1.157654          -0.174605      1\n",
              "3          -0.487567           1.290313      0\n",
              "4           2.191590          -0.909648      3"
            ]
          },
          "metadata": {
            "tags": []
          },
          "execution_count": 41
        }
      ]
    },
    {
      "cell_type": "code",
      "metadata": {
        "id": "-z-DK_qCUWef",
        "colab_type": "code",
        "colab": {}
      },
      "source": [
        ""
      ],
      "execution_count": null,
      "outputs": []
    },
    {
      "cell_type": "code",
      "metadata": {
        "id": "kKI_hdoPMsAo",
        "colab_type": "code",
        "colab": {
          "base_uri": "https://localhost:8080/",
          "height": 369
        },
        "outputId": "72424327-edbb-49a6-9acf-8fa60cc4822b"
      },
      "source": [
        "#plot data with seaborn\n",
        "# zipping X(score by each student in diff. paper) and labels\n",
        "import seaborn as sns\n",
        "facet = sns.lmplot(x='1st_pca_component',y='2nd_pca_component',data=data,hue='label', # x and y are names of dataframe (data)\n",
        "                   fit_reg=False, legend=True, legend_out=True)"
      ],
      "execution_count": null,
      "outputs": [
        {
          "output_type": "display_data",
          "data": {
            "image/png": "[encoded data removed]",
            "text/plain": [
              "<Figure size 402.375x360 with 1 Axes>"
            ]
          },
          "metadata": {
            "tags": []
          }
        }
      ]
    },
    {
      "cell_type": "code",
      "metadata": {
        "id": "poiKjvoBMICL",
        "colab_type": "code",
        "colab": {
          "base_uri": "https://localhost:8080/",
          "height": 34
        },
        "outputId": "a2798996-ebd2-4413-db69-ee8759281727"
      },
      "source": [
        "df_Y[0]"
      ],
      "execution_count": null,
      "outputs": [
        {
          "output_type": "execute_result",
          "data": {
            "text/plain": [
              "0"
            ]
          },
          "metadata": {
            "tags": []
          },
          "execution_count": 43
        }
      ]
    },
    {
      "cell_type": "code",
      "metadata": {
        "id": "KBxsBWmnB1uY",
        "colab_type": "code",
        "colab": {}
      },
      "source": [
        ""
      ],
      "execution_count": null,
      "outputs": []
    },
    {
      "cell_type": "code",
      "metadata": {
        "id": "tba6Mt4VBV-Z",
        "colab_type": "code",
        "colab": {
          "base_uri": "https://localhost:8080/",
          "height": 34
        },
        "outputId": "ab4dd103-0377-4dfc-e1bb-5a9e2d2de98b"
      },
      "source": [
        "Counter(kmeans.labels_).items()"
      ],
      "execution_count": null,
      "outputs": [
        {
          "output_type": "execute_result",
          "data": {
            "text/plain": [
              "dict_items([(0, 53), (2, 68), (1, 125), (3, 71)])"
            ]
          },
          "metadata": {
            "tags": []
          },
          "execution_count": 44
        }
      ]
    },
    {
      "cell_type": "code",
      "metadata": {
        "id": "9p43b_e6Pnt4",
        "colab_type": "code",
        "colab": {
          "base_uri": "https://localhost:8080/",
          "height": 34
        },
        "outputId": "c3049281-8c82-4f4c-96ab-736409ba36af"
      },
      "source": [
        "kmeans.labels_[53]"
      ],
      "execution_count": null,
      "outputs": [
        {
          "output_type": "execute_result",
          "data": {
            "text/plain": [
              "1"
            ]
          },
          "metadata": {
            "tags": []
          },
          "execution_count": 45
        }
      ]
    },
    {
      "cell_type": "code",
      "metadata": {
        "id": "KikLYSWd30b9",
        "colab_type": "code",
        "colab": {
          "base_uri": "https://localhost:8080/",
          "height": 350
        },
        "outputId": "6e9e3ce2-5d22-43b6-ddc3-8a0360ef29d5"
      },
      "source": [
        "skplt.metrics.plot_silhouette(pca_result,kmeans.labels_,figsize=(12,5))\n",
        "plt.show()"
      ],
      "execution_count": null,
      "outputs": [
        {
          "output_type": "display_data",
          "data": {
            "image/png": "[encoded data removed]",
            "text/plain": [
              "<Figure size 864x360 with 1 Axes>"
            ]
          },
          "metadata": {
            "tags": []
          }
        }
      ]
    },
    {
      "cell_type": "code",
      "metadata": {
        "id": "d3Qr6GmXj-f_",
        "colab_type": "code",
        "colab": {
          "base_uri": "https://localhost:8080/",
          "height": 34
        },
        "outputId": "a3fd247e-7669-43a1-8fd8-92b2fe29edef"
      },
      "source": [
        "# Finding out no. of elements in each category (here 13 categories)\n",
        "from collections import Counter\n",
        "category = sorted(Counter(kmeans.labels_).items())\n",
        "print(category)\n"
      ],
      "execution_count": null,
      "outputs": [
        {
          "output_type": "stream",
          "text": [
            "[(0, 53), (1, 125), (2, 68), (3, 71)]\n"
          ],
          "name": "stdout"
        }
      ]
    },
    {
      "cell_type": "code",
      "metadata": {
        "id": "YQ8fWY-xmpOn",
        "colab_type": "code",
        "colab": {
          "base_uri": "https://localhost:8080/",
          "height": 34
        },
        "outputId": "83859733-a92c-41e8-e85f-9306b008b1e4"
      },
      "source": [
        "# zipping X(score by each student in diff. paper) and labels\n",
        "t = list(zip(X,kmeans.labels_))\n",
        "print(t[0])"
      ],
      "execution_count": null,
      "outputs": [
        {
          "output_type": "stream",
          "text": [
            "(array([24, 24, 20, 24, 24, 16, 16, 16, 24]), 0)\n"
          ],
          "name": "stdout"
        }
      ]
    },
    {
      "cell_type": "code",
      "metadata": {
        "id": "MpGlOSO_pZF0",
        "colab_type": "code",
        "colab": {}
      },
      "source": [
        "# sorting a/c to labels\n",
        "k = lambda x:x[1]\n",
        "t_sort = sorted(t,key=k)\n"
      ],
      "execution_count": null,
      "outputs": []
    },
    {
      "cell_type": "code",
      "metadata": {
        "id": "IORr7JzNpaz8",
        "colab_type": "code",
        "colab": {
          "base_uri": "https://localhost:8080/",
          "height": 54
        },
        "outputId": "92b09943-a3d9-4663-f0c8-7d865fbe6882"
      },
      "source": [
        "# checking sorted dataframe, at index=67 label should be 2\n",
        "print(t_sort[:3])"
      ],
      "execution_count": null,
      "outputs": [
        {
          "output_type": "stream",
          "text": [
            "[(array([24, 24, 20, 24, 24, 16, 16, 16, 24]), 0), (array([24, 24, 24, 32, 28, 16, 18, 16, 24]), 0), (array([28, 20, 20, 24, 24, 16, 18, 16, 24]), 0)]\n"
          ],
          "name": "stdout"
        }
      ]
    },
    {
      "cell_type": "code",
      "metadata": {
        "id": "_dsD8vHCPQhv",
        "colab_type": "code",
        "colab": {}
      },
      "source": [
        "label = list()\n",
        "data = list()\n",
        "for i in t_sort:\n",
        "  data.append(i[0])\n",
        "  label.append(i[1])"
      ],
      "execution_count": null,
      "outputs": []
    },
    {
      "cell_type": "code",
      "metadata": {
        "id": "0ZMlEhHVPQdj",
        "colab_type": "code",
        "colab": {
          "base_uri": "https://localhost:8080/",
          "height": 34
        },
        "outputId": "05e84fba-48af-4586-c0e6-0af92d3e9690"
      },
      "source": [
        "new_df1 = pd.DataFrame(data,columns=df.columns)\n",
        "new_df1.head()\n",
        "new_df1.shape"
      ],
      "execution_count": null,
      "outputs": [
        {
          "output_type": "execute_result",
          "data": {
            "text/plain": [
              "(317, 9)"
            ]
          },
          "metadata": {
            "tags": []
          },
          "execution_count": 52
        }
      ]
    },
    {
      "cell_type": "code",
      "metadata": {
        "id": "itJvIwJ8PQVK",
        "colab_type": "code",
        "colab": {
          "base_uri": "https://localhost:8080/",
          "height": 34
        },
        "outputId": "c83562e0-244c-461c-fec1-0aedad0f9ec3"
      },
      "source": [
        "new_df2 = pd.DataFrame(label,columns=['group'])\n",
        "new_df2.head()\n",
        "new_df2.shape"
      ],
      "execution_count": null,
      "outputs": [
        {
          "output_type": "execute_result",
          "data": {
            "text/plain": [
              "(317, 1)"
            ]
          },
          "metadata": {
            "tags": []
          },
          "execution_count": 53
        }
      ]
    },
    {
      "cell_type": "code",
      "metadata": {
        "id": "E1Gk7U07ysqI",
        "colab_type": "code",
        "colab": {}
      },
      "source": [
        "#df.loc[44:50]"
      ],
      "execution_count": null,
      "outputs": []
    },
    {
      "cell_type": "code",
      "metadata": {
        "id": "nbq4qMF8OAHS",
        "colab_type": "code",
        "colab": {
          "base_uri": "https://localhost:8080/",
          "height": 206
        },
        "outputId": "639b8468-38f0-4e23-fbcd-4e369aaf5bef"
      },
      "source": [
        "\n",
        "new_df = pd.concat([new_df1,new_df2], axis=1)\n",
        "new_df.head()"
      ],
      "execution_count": null,
      "outputs": [
        {
          "output_type": "execute_result",
          "data": {
            "text/html": [
              "<div>\n",
              "<style scoped>\n",
              "    .dataframe tbody tr th:only-of-type {\n",
              "        vertical-align: middle;\n",
              "    }\n",
              "\n",
              "    .dataframe tbody tr th {\n",
              "        vertical-align: top;\n",
              "    }\n",
              "\n",
              "    .dataframe thead th {\n",
              "        text-align: right;\n",
              "    }\n",
              "</style>\n",
              "<table border=\"1\" class=\"dataframe\">\n",
              "  <thead>\n",
              "    <tr style=\"text-align: right;\">\n",
              "      <th></th>\n",
              "      <th>CS201</th>\n",
              "      <th>CH201</th>\n",
              "      <th>M201</th>\n",
              "      <th>ME201</th>\n",
              "      <th>ES201</th>\n",
              "      <th>CS291</th>\n",
              "      <th>CH291</th>\n",
              "      <th>ES291</th>\n",
              "      <th>ME291</th>\n",
              "      <th>group</th>\n",
              "    </tr>\n",
              "  </thead>\n",
              "  <tbody>\n",
              "    <tr>\n",
              "      <th>0</th>\n",
              "      <td>24</td>\n",
              "      <td>24</td>\n",
              "      <td>20</td>\n",
              "      <td>24</td>\n",
              "      <td>24</td>\n",
              "      <td>16</td>\n",
              "      <td>16</td>\n",
              "      <td>16</td>\n",
              "      <td>24</td>\n",
              "      <td>0</td>\n",
              "    </tr>\n",
              "    <tr>\n",
              "      <th>1</th>\n",
              "      <td>24</td>\n",
              "      <td>24</td>\n",
              "      <td>24</td>\n",
              "      <td>32</td>\n",
              "      <td>28</td>\n",
              "      <td>16</td>\n",
              "      <td>18</td>\n",
              "      <td>16</td>\n",
              "      <td>24</td>\n",
              "      <td>0</td>\n",
              "    </tr>\n",
              "    <tr>\n",
              "      <th>2</th>\n",
              "      <td>28</td>\n",
              "      <td>20</td>\n",
              "      <td>20</td>\n",
              "      <td>24</td>\n",
              "      <td>24</td>\n",
              "      <td>16</td>\n",
              "      <td>18</td>\n",
              "      <td>16</td>\n",
              "      <td>24</td>\n",
              "      <td>0</td>\n",
              "    </tr>\n",
              "    <tr>\n",
              "      <th>3</th>\n",
              "      <td>20</td>\n",
              "      <td>24</td>\n",
              "      <td>20</td>\n",
              "      <td>28</td>\n",
              "      <td>24</td>\n",
              "      <td>16</td>\n",
              "      <td>16</td>\n",
              "      <td>16</td>\n",
              "      <td>24</td>\n",
              "      <td>0</td>\n",
              "    </tr>\n",
              "    <tr>\n",
              "      <th>4</th>\n",
              "      <td>24</td>\n",
              "      <td>24</td>\n",
              "      <td>20</td>\n",
              "      <td>32</td>\n",
              "      <td>28</td>\n",
              "      <td>18</td>\n",
              "      <td>16</td>\n",
              "      <td>16</td>\n",
              "      <td>24</td>\n",
              "      <td>0</td>\n",
              "    </tr>\n",
              "  </tbody>\n",
              "</table>\n",
              "</div>"
            ],
            "text/plain": [
              "   CS201  CH201  M201  ME201  ES201  CS291  CH291  ES291  ME291  group\n",
              "0     24     24    20     24     24     16     16     16     24      0\n",
              "1     24     24    24     32     28     16     18     16     24      0\n",
              "2     28     20    20     24     24     16     18     16     24      0\n",
              "3     20     24    20     28     24     16     16     16     24      0\n",
              "4     24     24    20     32     28     18     16     16     24      0"
            ]
          },
          "metadata": {
            "tags": []
          },
          "execution_count": 55
        }
      ]
    },
    {
      "cell_type": "code",
      "metadata": {
        "id": "O3p2lYkKoriA",
        "colab_type": "code",
        "colab": {
          "base_uri": "https://localhost:8080/",
          "height": 206
        },
        "outputId": "2e4616d7-db8b-4539-f190-5ecb8d9da25e"
      },
      "source": [
        "df1 = new_df[0:53]\n",
        "\n",
        "df1.tail()\n",
        "df2 = new_df[53:124]\n",
        "df2.tail(2)\n",
        "df3 = new_df[124:192]\n",
        "df3.tail(2)\n",
        "df4 = new_df[192:]\n",
        "df4.head()"
      ],
      "execution_count": null,
      "outputs": [
        {
          "output_type": "execute_result",
          "data": {
            "text/html": [
              "<div>\n",
              "<style scoped>\n",
              "    .dataframe tbody tr th:only-of-type {\n",
              "        vertical-align: middle;\n",
              "    }\n",
              "\n",
              "    .dataframe tbody tr th {\n",
              "        vertical-align: top;\n",
              "    }\n",
              "\n",
              "    .dataframe thead th {\n",
              "        text-align: right;\n",
              "    }\n",
              "</style>\n",
              "<table border=\"1\" class=\"dataframe\">\n",
              "  <thead>\n",
              "    <tr style=\"text-align: right;\">\n",
              "      <th></th>\n",
              "      <th>CS201</th>\n",
              "      <th>CH201</th>\n",
              "      <th>M201</th>\n",
              "      <th>ME201</th>\n",
              "      <th>ES201</th>\n",
              "      <th>CS291</th>\n",
              "      <th>CH291</th>\n",
              "      <th>ES291</th>\n",
              "      <th>ME291</th>\n",
              "      <th>group</th>\n",
              "    </tr>\n",
              "  </thead>\n",
              "  <tbody>\n",
              "    <tr>\n",
              "      <th>192</th>\n",
              "      <td>20</td>\n",
              "      <td>24</td>\n",
              "      <td>8</td>\n",
              "      <td>20</td>\n",
              "      <td>20</td>\n",
              "      <td>16</td>\n",
              "      <td>16</td>\n",
              "      <td>18</td>\n",
              "      <td>24</td>\n",
              "      <td>2</td>\n",
              "    </tr>\n",
              "    <tr>\n",
              "      <th>193</th>\n",
              "      <td>8</td>\n",
              "      <td>20</td>\n",
              "      <td>20</td>\n",
              "      <td>8</td>\n",
              "      <td>8</td>\n",
              "      <td>16</td>\n",
              "      <td>16</td>\n",
              "      <td>18</td>\n",
              "      <td>21</td>\n",
              "      <td>2</td>\n",
              "    </tr>\n",
              "    <tr>\n",
              "      <th>194</th>\n",
              "      <td>20</td>\n",
              "      <td>20</td>\n",
              "      <td>20</td>\n",
              "      <td>20</td>\n",
              "      <td>8</td>\n",
              "      <td>16</td>\n",
              "      <td>16</td>\n",
              "      <td>16</td>\n",
              "      <td>24</td>\n",
              "      <td>2</td>\n",
              "    </tr>\n",
              "    <tr>\n",
              "      <th>195</th>\n",
              "      <td>24</td>\n",
              "      <td>8</td>\n",
              "      <td>20</td>\n",
              "      <td>8</td>\n",
              "      <td>24</td>\n",
              "      <td>18</td>\n",
              "      <td>18</td>\n",
              "      <td>16</td>\n",
              "      <td>27</td>\n",
              "      <td>2</td>\n",
              "    </tr>\n",
              "    <tr>\n",
              "      <th>196</th>\n",
              "      <td>20</td>\n",
              "      <td>20</td>\n",
              "      <td>24</td>\n",
              "      <td>24</td>\n",
              "      <td>20</td>\n",
              "      <td>18</td>\n",
              "      <td>16</td>\n",
              "      <td>18</td>\n",
              "      <td>27</td>\n",
              "      <td>2</td>\n",
              "    </tr>\n",
              "  </tbody>\n",
              "</table>\n",
              "</div>"
            ],
            "text/plain": [
              "     CS201  CH201  M201  ME201  ES201  CS291  CH291  ES291  ME291  group\n",
              "192     20     24     8     20     20     16     16     18     24      2\n",
              "193      8     20    20      8      8     16     16     18     21      2\n",
              "194     20     20    20     20      8     16     16     16     24      2\n",
              "195     24      8    20      8     24     18     18     16     27      2\n",
              "196     20     20    24     24     20     18     16     18     27      2"
            ]
          },
          "metadata": {
            "tags": []
          },
          "execution_count": 56
        }
      ]
    },
    {
      "cell_type": "code",
      "metadata": {
        "id": "Xhwfamytz8Vx",
        "colab_type": "code",
        "colab": {}
      },
      "source": [
        "\n",
        "\n",
        "# Ploting double bar-graphs for each group\n",
        "def plotting(j): # j will be a dataframe\n",
        "  \n",
        "  l_d = [] # list for storing no. of student score more than mean\n",
        "  d_l = [] # list for storing no. of student score more than mean\n",
        "  fea_imp = ['CS201','ME201','ES201']\n",
        "  for i in fea_imp:\n",
        "    d_l.append(j[j[i] > np.mean(j[i])][i].count())\n",
        "  \n",
        "# no. of students below mean score\n",
        "\n",
        "  fea_imp = ['CS201','ME201','ES201']\n",
        "  for i in fea_imp:\n",
        "    l_d.append(j[j[i] < np.mean(j[i])][i].count())\n",
        "\n",
        "#plotting double bar graph\n",
        "\n",
        "  n_group = 3\n",
        "\n",
        "#create plot\n",
        "  fig, ax = plt.subplots()\n",
        "  index = np.arange(n_group)\n",
        "  bar_width = 0.35\n",
        "  opacity = 0.8\n",
        "\n",
        "  plt.bar(index, d_l, bar_width,\n",
        "  alpha=opacity,\n",
        "  color='g',\n",
        "  label='above mean')\n",
        "\n",
        "  plt.bar(index + bar_width, l_d, bar_width,\n",
        "  alpha=opacity,\n",
        "  color='r',\n",
        "  label='below mean')\n",
        "\n",
        "  plt.title(\"No. of students VS Subjects\")\n",
        "  plt.xlabel(\"subjects------>\")\n",
        "  plt.ylabel(\"no. of students---->\")\n",
        "\n",
        "  plt.xticks(index + bar_width, ('CS201', 'ME201', 'ES201'))\n",
        "  plt.legend()\n",
        "\n",
        "  plt.tight_layout()\n",
        "\n",
        "  plt.figure(figsize=(10,16))\n",
        "\n",
        "  plt.show()\n",
        "\n",
        "  "
      ],
      "execution_count": null,
      "outputs": []
    },
    {
      "cell_type": "code",
      "metadata": {
        "id": "-KvccC_gyKH-",
        "colab_type": "code",
        "colab": {
          "base_uri": "https://localhost:8080/",
          "height": 1000
        },
        "outputId": "4f2dbf5f-fd7e-43d6-8e42-c7e0b2c64c0a"
      },
      "source": [
        "d = [df1,df2,df3,df4]\n",
        "\n",
        "for i,j in enumerate(d):\n",
        "  print(\"LABEL: \",i,plotting(j))"
      ],
      "execution_count": null,
      "outputs": [
        {
          "output_type": "display_data",
          "data": {
            "image/png": "[encoded data removed]",
            "text/plain": [
              "<Figure size 432x288 with 1 Axes>"
            ]
          },
          "metadata": {
            "tags": []
          }
        },
        {
          "output_type": "display_data",
          "data": {
            "text/plain": [
              "<Figure size 720x1152 with 0 Axes>"
            ]
          },
          "metadata": {
            "tags": []
          }
        },
        {
          "output_type": "stream",
          "text": [
            "LABEL:  0 None\n"
          ],
          "name": "stdout"
        },
        {
          "output_type": "display_data",
          "data": {
            "image/png": "[encoded data removed]",
            "text/plain": [
              "<Figure size 432x288 with 1 Axes>"
            ]
          },
          "metadata": {
            "tags": []
          }
        },
        {
          "output_type": "display_data",
          "data": {
            "text/plain": [
              "<Figure size 720x1152 with 0 Axes>"
            ]
          },
          "metadata": {
            "tags": []
          }
        },
        {
          "output_type": "stream",
          "text": [
            "LABEL:  1 None\n"
          ],
          "name": "stdout"
        },
        {
          "output_type": "display_data",
          "data": {
            "image/png": "[encoded data removed]",
            "text/plain": [
              "<Figure size 432x288 with 1 Axes>"
            ]
          },
          "metadata": {
            "tags": []
          }
        },
        {
          "output_type": "display_data",
          "data": {
            "text/plain": [
              "<Figure size 720x1152 with 0 Axes>"
            ]
          },
          "metadata": {
            "tags": []
          }
        },
        {
          "output_type": "stream",
          "text": [
            "LABEL:  2 None\n"
          ],
          "name": "stdout"
        },
        {
          "output_type": "display_data",
          "data": {
            "image/png": "[encoded data removed]",
            "text/plain": [
              "<Figure size 432x288 with 1 Axes>"
            ]
          },
          "metadata": {
            "tags": []
          }
        },
        {
          "output_type": "display_data",
          "data": {
            "text/plain": [
              "<Figure size 720x1152 with 0 Axes>"
            ]
          },
          "metadata": {
            "tags": []
          }
        },
        {
          "output_type": "stream",
          "text": [
            "LABEL:  3 None\n"
          ],
          "name": "stdout"
        }
      ]
    },
    {
      "cell_type": "markdown",
      "metadata": {
        "id": "WCfrytkByZsv",
        "colab_type": "text"
      },
      "source": [
        "### Result Observation\n",
        "#### Label 0:\n",
        "- No. of students: 53\n",
        "- Number of students havings marks less than below mean mark are less.\n",
        "- Seems good students.\n",
        "- But difference is not so much.\n",
        "\n",
        "#### Label 1:\n",
        "- No. of students: 125 (Determining Group)\n",
        "- Seems student do not take interest on studies.\n",
        "\n",
        "#### Label 2:\n",
        "- No. of students: 68\n",
        "- Not laborious students, but performed well in ES201.\n",
        "\n",
        "#### Label 3:\n",
        "- No. of students: 71\n",
        "- Performed well in all three most important subjects.\n",
        "- Might be good students"
      ]
    }
  ]
}